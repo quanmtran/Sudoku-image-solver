{
  "nbformat": 4,
  "nbformat_minor": 0,
  "metadata": {
    "colab": {
      "name": "Sudoku_image_solver.ipynb",
      "provenance": [],
      "collapsed_sections": [],
      "mount_file_id": "1dTKCWs09IpKKn2ofehPjGweiiv7CJJ-Y",
      "authorship_tag": "ABX9TyM5/QxkzR+jUvlVDfF4Bix2",
      "include_colab_link": true
    },
    "kernelspec": {
      "name": "python3",
      "display_name": "Python 3"
    }
  },
  "cells": [
    {
      "cell_type": "markdown",
      "metadata": {
        "id": "view-in-github",
        "colab_type": "text"
      },
      "source": [
        "<a href=\"https://colab.research.google.com/github/quanmtran/Sudoku-image-solver/blob/main/Sudoku_image_solver.ipynb\" target=\"_parent\"><img src=\"https://colab.research.google.com/assets/colab-badge.svg\" alt=\"Open In Colab\"/></a>"
      ]
    },
    {
      "cell_type": "code",
      "metadata": {
        "id": "xwr5BkuFvDdq"
      },
      "source": [
        "import numpy as np\n",
        "import cv2\n",
        "from google.colab.patches import cv2_imshow\n",
        "from skimage import io\n",
        "from tensorflow.keras.models import load_model"
      ],
      "execution_count": 1,
      "outputs": []
    },
    {
      "cell_type": "markdown",
      "metadata": {
        "id": "wWDiWgHmxmM3"
      },
      "source": [
        "# **Step 1: Convert image of puzzle into arrays of digits**"
      ]
    },
    {
      "cell_type": "markdown",
      "metadata": {
        "id": "qx17np4xWGSC"
      },
      "source": [
        "## **Step 1.1: Read image**"
      ]
    },
    {
      "cell_type": "code",
      "metadata": {
        "id": "h0jtoig5kt3O",
        "colab": {
          "base_uri": "https://localhost:8080/",
          "height": 287
        },
        "outputId": "69780761-39d2-4f67-d00c-c1c28d32ea9c"
      },
      "source": [
        "puz_img_ori = io.imread('https://raw.githubusercontent.com/quanmtran/Sudoku-image-solver/main/sudoku.png') \n",
        "\n",
        "# Resize\n",
        "width = height = 270\n",
        "puz_img_ori = cv2.resize(puz_img_ori, (width, height))\n",
        "\n",
        "# Convert to gray\n",
        "puz_img_gray = cv2.cvtColor(puz_img_ori, cv2.COLOR_BGR2GRAY)\n",
        "cv2_imshow(puz_img_gray)"
      ],
      "execution_count": 2,
      "outputs": [
        {
          "output_type": "display_data",
          "data": {
            "image/png": "[encoded data removed]",
            "text/plain": [
              "<PIL.Image.Image image mode=L size=270x270 at 0x7F5B68657048>"
            ]
          },
          "metadata": {
            "tags": []
          }
        }
      ]
    },
    {
      "cell_type": "markdown",
      "metadata": {
        "id": "6g7RLVBQWNG4"
      },
      "source": [
        "## **Step 1.2: Split image into 81 boxes**"
      ]
    },
    {
      "cell_type": "code",
      "metadata": {
        "id": "Rcd5vz1h0pv2"
      },
      "source": [
        "def split_image(img):\n",
        "    \n",
        "    boxes = []\n",
        "    \n",
        "    # Split image into 9 rows\n",
        "    rows = np.vsplit(img, 9)\n",
        "    \n",
        "    # Split each row into 9 boxes\n",
        "    for row in rows:\n",
        "        boxes_in_one_row = np.hsplit(row, 9)\n",
        "        boxes.extend(boxes_in_one_row)\n",
        "    \n",
        "    return boxes\n",
        "\n",
        "\n",
        "boxes = split_image(puz_img_gray)"
      ],
      "execution_count": 3,
      "outputs": []
    },
    {
      "cell_type": "code",
      "metadata": {
        "id": "boICJeMq0tIS",
        "colab": {
          "base_uri": "https://localhost:8080/",
          "height": 47
        },
        "outputId": "28e9f654-22cd-4840-9cba-ae765cf77f6e"
      },
      "source": [
        "# Check first box\n",
        "cv2_imshow(boxes[0])"
      ],
      "execution_count": 4,
      "outputs": [
        {
          "output_type": "display_data",
          "data": {
            "image/png": "[encoded data removed]",
            "text/plain": [
              "<PIL.Image.Image image mode=L size=30x30 at 0x7F5B37F32E80>"
            ]
          },
          "metadata": {
            "tags": []
          }
        }
      ]
    },
    {
      "cell_type": "markdown",
      "metadata": {
        "id": "8rG0ORexWTcp"
      },
      "source": [
        "## **Step 1.3: Detect digits in boxes**"
      ]
    },
    {
      "cell_type": "code",
      "metadata": {
        "id": "Yd2zr-bm1JWP"
      },
      "source": [
        "digit_detector = load_model('/content/drive/MyDrive/models/digit_detector_model.h5')"
      ],
      "execution_count": 5,
      "outputs": []
    },
    {
      "cell_type": "code",
      "metadata": {
        "id": "dfiilUhudbYV",
        "colab": {
          "base_uri": "https://localhost:8080/"
        },
        "outputId": "cab99ea1-6059-4b06-f160-518c26cbe506"
      },
      "source": [
        "# Image pre-processing\n",
        "def preprocess_image(img):\n",
        "  img = img[4:img.shape[0] - 4, 4:img.shape[1] - 4]\n",
        "  img = cv2.resize(img, (28, 28))\n",
        "  img = img / 255\n",
        "  img = img.reshape(1, 28, 28, 1)\n",
        "  return img\n",
        "\n",
        "\n",
        "# Detect digits\n",
        "digits = []\n",
        "\n",
        "for box in boxes:\n",
        "  \n",
        "  # Pre-process\n",
        "  box = preprocess_image(box)\n",
        "  \n",
        "  # Predict\n",
        "  pred = digit_detector.predict(box)\n",
        "\n",
        "  pred_digit = np.argmax(pred, axis=-1) # Predicted digit\n",
        "  prob = np.amax(pred) # Probability\n",
        "  \n",
        "  if prob >= 0.8:\n",
        "    digits.extend(pred_digit)\n",
        "  else:\n",
        "    digits.append(0)\n",
        "\n",
        "puz_arr = np.reshape(digits, (9, 9))\n",
        "print(puz_arr)"
      ],
      "execution_count": 6,
      "outputs": [
        {
          "output_type": "stream",
          "text": [
            "[[5 3 0 0 7 0 0 0 0]\n",
            " [6 0 0 1 9 5 0 0 0]\n",
            " [0 9 8 0 0 0 0 6 0]\n",
            " [8 0 0 0 6 0 0 0 3]\n",
            " [4 0 0 8 0 3 0 0 1]\n",
            " [7 0 0 0 2 0 0 0 6]\n",
            " [0 6 0 0 0 0 2 8 0]\n",
            " [0 0 0 4 1 9 0 0 5]\n",
            " [0 0 0 0 8 0 0 7 9]]\n"
          ],
          "name": "stdout"
        }
      ]
    },
    {
      "cell_type": "markdown",
      "metadata": {
        "id": "WEnDxVtwhmw-"
      },
      "source": [
        "# **Step 2: Solve puzzle**"
      ]
    },
    {
      "cell_type": "code",
      "metadata": {
        "colab": {
          "base_uri": "https://localhost:8080/"
        },
        "id": "KMMuVZX5zEJl",
        "outputId": "fd08f9e0-4d34-48d0-b13d-d4c65a5ebff5"
      },
      "source": [
        "# Function that finds empty boxes in a puzzle\n",
        "def find_empty(puzzle):\n",
        "    for row in range(9):\n",
        "        for col in range(9):\n",
        "            if puzzle[row][col] == 0:\n",
        "                return (row, col)\n",
        "\n",
        "    return None\n",
        "\n",
        "\n",
        "# Function that checks if a number is valid in a given position\n",
        "def is_valid(puzzle, num, pos):\n",
        "    row, col = pos\n",
        "    \n",
        "    # Check row\n",
        "    for i in range(9):\n",
        "        if puzzle[row][i] == num:\n",
        "            return False\n",
        "\n",
        "    # Check column\n",
        "    for i in range(9):\n",
        "        if puzzle[i][col] == num:\n",
        "            return False\n",
        "\n",
        "    # Check box\n",
        "    box_row = (row // 3) * 3\n",
        "    box_col = (col // 3) * 3\n",
        "\n",
        "    for i in range(box_row, box_row + 3):\n",
        "        for j in range(box_col, box_col + 3):\n",
        "            if puzzle[i][j] == num:\n",
        "                return False\n",
        "\n",
        "    return True\n",
        "\n",
        "\n",
        "# Function that solves a puzzle\n",
        "def solve(puzzle):\n",
        "    find = find_empty(puzzle) # Find the first empty box\n",
        "    if not find:\n",
        "        return True\n",
        "    else:\n",
        "        row, col = find # Position of the empty box\n",
        "\n",
        "    for num in range(1,10): # Loop through numbers from 1 to 9\n",
        "        if is_valid(puzzle, num, (row, col)):\n",
        "            puzzle[row][col] = num\n",
        "\n",
        "            if solve(puzzle):\n",
        "                return True\n",
        "\n",
        "            puzzle[row][col] = 0\n",
        "\n",
        "    return False\n",
        "\n",
        "\n",
        "solve(puz_arr)\n",
        "print(puz_arr)"
      ],
      "execution_count": 7,
      "outputs": [
        {
          "output_type": "stream",
          "text": [
            "[[5 3 4 6 7 8 9 1 2]\n",
            " [6 7 2 1 9 5 3 4 8]\n",
            " [1 9 8 3 4 2 5 6 7]\n",
            " [8 5 9 7 6 1 4 2 3]\n",
            " [4 2 6 8 5 3 7 9 1]\n",
            " [7 1 3 9 2 4 8 5 6]\n",
            " [9 6 1 5 3 7 2 8 4]\n",
            " [2 8 7 4 1 9 6 3 5]\n",
            " [3 4 5 2 8 6 1 7 9]]\n"
          ],
          "name": "stdout"
        }
      ]
    },
    {
      "cell_type": "markdown",
      "metadata": {
        "id": "owMcbJ2h426t"
      },
      "source": [
        "# **Step 3: Show solution**"
      ]
    },
    {
      "cell_type": "markdown",
      "metadata": {
        "id": "UDxFW1j99txo"
      },
      "source": [
        "## **Step 3.1: Extract digits filled by the solver**"
      ]
    },
    {
      "cell_type": "code",
      "metadata": {
        "colab": {
          "base_uri": "https://localhost:8080/"
        },
        "id": "-fDRxxs641ku",
        "outputId": "3fe8e0aa-87fc-4b62-bd21-2b8f53c042fd"
      },
      "source": [
        "# Mark position of blanks as 1, otherwise 0\n",
        "blank_pos = [0 if num > 0 else 1 for num in digits]\n",
        "blank_pos = np.reshape(blank_pos, (9, 9))\n",
        "\n",
        "# Extract filled digits\n",
        "puz_arr_filled = puz_arr * blank_pos\n",
        "print(puz_arr_filled)"
      ],
      "execution_count": 8,
      "outputs": [
        {
          "output_type": "stream",
          "text": [
            "[[0 0 4 6 0 8 9 1 2]\n",
            " [0 7 2 0 0 0 3 4 8]\n",
            " [1 0 0 3 4 2 5 0 7]\n",
            " [0 5 9 7 0 1 4 2 0]\n",
            " [0 2 6 0 5 0 7 9 0]\n",
            " [0 1 3 9 0 4 8 5 0]\n",
            " [9 0 1 5 3 7 0 0 4]\n",
            " [2 8 7 0 0 0 6 3 0]\n",
            " [3 4 5 2 0 6 1 0 0]]\n"
          ],
          "name": "stdout"
        }
      ]
    },
    {
      "cell_type": "markdown",
      "metadata": {
        "id": "LTA-v09P-GpJ"
      },
      "source": [
        "## **Step 3.2: Overlay filled digits on image**"
      ]
    },
    {
      "cell_type": "code",
      "metadata": {
        "colab": {
          "base_uri": "https://localhost:8080/",
          "height": 287
        },
        "id": "fdupCkwMmE1f",
        "outputId": "83684d9e-dd48-4edf-fb94-f359f0fff480"
      },
      "source": [
        "puz_img_solved = cv2.cvtColor(puz_img_gray, cv2.COLOR_GRAY2BGR)\n",
        "\n",
        "# Size of each box\n",
        "box_width = width / 9\n",
        "box_height = height / 9\n",
        "\n",
        "# Settings\n",
        "fontFace = cv2.FONT_HERSHEY_COMPLEX_SMALL\n",
        "fontScale = 1\n",
        "thickness = 1\n",
        "\n",
        "for row in range(9):\n",
        "  for col in range(9):\n",
        "    if puz_arr_filled[row][col] != 0:\n",
        "      \n",
        "      digit = str(puz_arr_filled[row][col])\n",
        "      \n",
        "      # Extract text size, i.e., width and height\n",
        "      text_size = cv2.getTextSize(digit, fontFace, fontScale, thickness)[0]\n",
        "\n",
        "      text_width = text_size[0]\n",
        "      text_height = text_size[1]\n",
        "\n",
        "      # Find text coordinates\n",
        "      text_x = int(col * box_width + (box_width - text_width) // 2)\n",
        "      text_y = int(row * box_height + (box_height + text_height) // 2)\n",
        "\n",
        "      # Put text on image\n",
        "      cv2.putText(img = puz_img_solved,\n",
        "                  text = digit,\n",
        "                  org = (text_x, text_y),\n",
        "                  fontFace = fontFace,\n",
        "                  fontScale = fontScale,\n",
        "                  color = (0, 0, 255),\n",
        "                  thickness = thickness,\n",
        "                  lineType = cv2.LINE_AA\n",
        "                  )\n",
        "      \n",
        "cv2_imshow(puz_img_solved)"
      ],
      "execution_count": 9,
      "outputs": [
        {
          "output_type": "display_data",
          "data": {
            "image/png": "[encoded data removed]",
            "text/plain": [
              "<PIL.Image.Image image mode=RGB size=270x270 at 0x7F5B2F082518>"
            ]
          },
          "metadata": {
            "tags": []
          }
        }
      ]
    }
  ]
}